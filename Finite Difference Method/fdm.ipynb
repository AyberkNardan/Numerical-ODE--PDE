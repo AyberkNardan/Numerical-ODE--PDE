{
 "cells": [
  {
   "attachments": {},
   "cell_type": "markdown",
   "metadata": {},
   "source": [
    "# Solving the Poison Equation Using Finite Differnce Method for Rectengular Grids\n",
    "The poisson equation has the general form\n",
    "$$\n",
    "\\nabla^2 u(x,y) = f(x,y) \\quad \\nabla^2 = \\partial_x^2 + \\partial_y^2 \n",
    "$$\n",
    "We will approximate the laplace operator using the central difference operator $\\Delta_0$\n",
    "$$\n",
    "\\Delta_0z_k = z_{k+\\frac{1}{2}} - z_{k-\\frac{1}{2}}\n",
    "$$\n",
    "Then one can approximate the second derivative of a function with using the following second derivative operator $D^2$, which approximate it with the order of 2.\n",
    "$$\n",
    "D^2 = \\frac{1}{2}\\Delta_0^2 + \\mathcal{O}(h^2)\n",
    "$$\n",
    "Hence, the laplace operator is\n",
    "$$\n",
    "\\nabla^2 = \\Delta_{0,x}^2 + \\Delta_{0,y}^2\n",
    "$$\n",
    "Consequently, we have the following 5-point formula as our finite difference method.\n",
    "$$\n",
    "(\\Delta x)^2f_{k,l} = u_{k+1,l} + u_{k-1,l} + u_{k,l+1} + u_{k,l-1} - 4u_{k,l} \n",
    "$$\n",
    "### Note:\n",
    "This method works only on recangular like grids."
   ]
  },
  {
   "cell_type": "code",
   "execution_count": 4,
   "metadata": {},
   "outputs": [],
   "source": [
    "import numpy as np\n",
    "import matplotlib.pyplot as plt\n",
    "import scipy as sp"
   ]
  },
  {
   "cell_type": "code",
   "execution_count": 6,
   "metadata": {},
   "outputs": [],
   "source": [
    "#Defining the boundry condition\n",
    "N = 100\n",
    "h = 1/N\n",
    "u = np.zeros((N+1,N+1))\n",
    "def f(x,y):\n",
    "    return 100*(x**2+y**2)"
   ]
  },
  {
   "cell_type": "markdown",
   "metadata": {},
   "source": [
    "# Defining Boundry Condition\n",
    "Let suppose\n",
    "$$\n",
    "u[0,i] = u[N,i]  = 2sin(2 \\pi y[i])\\\\\n",
    "u[i,0] = u[i,N] = sin(2\\pi x[i])\\\\ \n",
    "$$"
   ]
  },
  {
   "cell_type": "code",
   "execution_count": 7,
   "metadata": {},
   "outputs": [
    {
     "ename": "NameError",
     "evalue": "name 'y' is not defined",
     "output_type": "error",
     "traceback": [
      "\u001b[0;31m---------------------------------------------------------------------------\u001b[0m",
      "\u001b[0;31mNameError\u001b[0m                                 Traceback (most recent call last)",
      "\u001b[0;32m/tmp/ipykernel_7187/3648930156.py\u001b[0m in \u001b[0;36m<module>\u001b[0;34m\u001b[0m\n\u001b[1;32m      1\u001b[0m \u001b[0;31m#Boundry Condition\u001b[0m\u001b[0;34m\u001b[0m\u001b[0;34m\u001b[0m\u001b[0m\n\u001b[1;32m      2\u001b[0m \u001b[0;32mfor\u001b[0m \u001b[0mi\u001b[0m \u001b[0;32min\u001b[0m \u001b[0mrange\u001b[0m\u001b[0;34m(\u001b[0m\u001b[0;36m0\u001b[0m\u001b[0;34m,\u001b[0m\u001b[0mN\u001b[0m\u001b[0;34m)\u001b[0m\u001b[0;34m:\u001b[0m\u001b[0;34m\u001b[0m\u001b[0;34m\u001b[0m\u001b[0m\n\u001b[0;32m----> 3\u001b[0;31m     \u001b[0mu\u001b[0m\u001b[0;34m[\u001b[0m\u001b[0;36m0\u001b[0m\u001b[0;34m,\u001b[0m\u001b[0mi\u001b[0m\u001b[0;34m]\u001b[0m \u001b[0;34m=\u001b[0m \u001b[0;36m2\u001b[0m\u001b[0;34m*\u001b[0m\u001b[0mnp\u001b[0m\u001b[0;34m.\u001b[0m\u001b[0msin\u001b[0m\u001b[0;34m(\u001b[0m\u001b[0;36m2\u001b[0m\u001b[0;34m*\u001b[0m\u001b[0mnp\u001b[0m\u001b[0;34m.\u001b[0m\u001b[0mpi\u001b[0m\u001b[0;34m*\u001b[0m\u001b[0my\u001b[0m\u001b[0;34m[\u001b[0m\u001b[0mi\u001b[0m\u001b[0;34m]\u001b[0m\u001b[0;34m)\u001b[0m\u001b[0;34m\u001b[0m\u001b[0;34m\u001b[0m\u001b[0m\n\u001b[0m\u001b[1;32m      4\u001b[0m     \u001b[0mu\u001b[0m\u001b[0;34m[\u001b[0m\u001b[0mN\u001b[0m\u001b[0;34m,\u001b[0m\u001b[0mi\u001b[0m\u001b[0;34m]\u001b[0m \u001b[0;34m=\u001b[0m \u001b[0;36m2\u001b[0m\u001b[0;34m*\u001b[0m\u001b[0mnp\u001b[0m\u001b[0;34m.\u001b[0m\u001b[0msin\u001b[0m\u001b[0;34m(\u001b[0m\u001b[0;36m2\u001b[0m\u001b[0;34m*\u001b[0m\u001b[0mnp\u001b[0m\u001b[0;34m.\u001b[0m\u001b[0mpi\u001b[0m\u001b[0;34m*\u001b[0m\u001b[0my\u001b[0m\u001b[0;34m[\u001b[0m\u001b[0mi\u001b[0m\u001b[0;34m]\u001b[0m\u001b[0;34m)\u001b[0m\u001b[0;34m\u001b[0m\u001b[0;34m\u001b[0m\u001b[0m\n\u001b[1;32m      5\u001b[0m \u001b[0;34m\u001b[0m\u001b[0m\n",
      "\u001b[0;31mNameError\u001b[0m: name 'y' is not defined"
     ]
    }
   ],
   "source": [
    "#Boundry Condition\n",
    "for i in range(0,N):\n",
    "    u[0,i] = 2*np.sin(2*np.pi*y[i])\n",
    "    u[N,i] = 2*np.sin(2*np.pi*y[i])\n",
    "\n",
    "for i in range(0,N):\n",
    "    u[i,0] = np.sin(2*np.pi*x[i])\n",
    "    u[i,N] = np.sin(2*np.pi*x[i])\n",
    "\n",
    "plt.pcolormesh(x,y,u)\n",
    "plt.colorbar()\n",
    "plt.show()"
   ]
  },
  {
   "cell_type": "markdown",
   "metadata": {},
   "source": [
    "# The algorithm for calculating the matrix A\n",
    "$$\n",
    "Au = b\n",
    "$$\n",
    "First, let $a_{ij}$ be the element of the A. Let $b_{k,l}$ and $u_{m,n}$ be the corresponding elements of u and b vectors. Then we have the following relation for the indexes\n",
    "$$\n",
    "i = (k-1)n + l\n",
    "j = (m-1)n + s\n",
    "$$\n",
    "where n is the number of partition. This means after the $u_{m,n}$, we have $u_{m+1,1}$ element. Then the algorithm works as the following \n",
    "$$\n",
    "(m = k\\pm 1 \\And s = l) \\vee (m=k \\And s = l \\pm 1) \\Rightarrow a_{i,j} = 1\\\n",
    "$$\n",
    "$$\n",
    "m = k \\And l=s \\Rightarrow a_{i,j} = -4\n",
    "$$\n",
    "Then from $i$ I calculate $k,l$ then check the above condition in the $j$ index using the given relation between $i,j$ and $k,l,m,s$"
   ]
  },
  {
   "cell_type": "code",
   "execution_count": null,
   "metadata": {},
   "outputs": [],
   "source": [
    "#Defining the A matrix\n",
    "A = np.zeros(((N-1)**2,(N-1)**2))\n",
    "for i in range(0,(N-1)**2):\n",
    "    l = i%N\n",
    "    k = (i-l)/N + 1\n",
    "    for j in range(0,(N-1)**2):\n",
    "        if i == j:\n",
    "            A[i,j] = -4\n",
    "        elif j == k*N + l or j == (k-2)*N+l:\n",
    "            A[i,j] = 1\n",
    "        elif j == (k-1)*N + l+1 or j == (k-1)*N+l-1:\n",
    "            A[i,j] = 1\n",
    "        else:\n",
    "            pass\n",
    "Ainv = np.linalg.inv(A)\n",
    "plt.matshow(A)\n",
    "plt.colorbar()\n",
    "plt.show()\n",
    "print(A.shape,\"  \",u.shape)"
   ]
  },
  {
   "cell_type": "markdown",
   "metadata": {},
   "source": []
  },
  {
   "cell_type": "code",
   "execution_count": null,
   "metadata": {},
   "outputs": [],
   "source": [
    "#Crating the vector F\n",
    "x = np.arange(0,1-h,h)\n",
    "y = np.arange(0,1-h,h)\n",
    "X,Y =  np.meshgrid(x,y)\n",
    "F = h**2*f(X,Y)\n",
    "#Creating the b vectore\n",
    "b = F\n",
    "b[0,:] = F[0,:] - u[0,1:-1]\n",
    "b[-1,:] = F[-1,:] - u[-1,1:-1]\n",
    "b[:,0]  = F[:,0] - u[1:-1,0]\n",
    "b[:,-1] = F[:,-1] - u[1:-1,-1]\n",
    "bc = b.reshape(b.shape[0]**2,1)\n",
    "print(b.shape,bc.shape,A.shape)\n",
    "K = np.linalg.solve(A,bc)\n",
    "Ks = K.reshape(F.shape[0],F.shape[1])\n",
    "plt.pcolormesh(X,Y,Ks)\n",
    "plt.colorbar()\n",
    "plt.show()"
   ]
  },
  {
   "cell_type": "code",
   "execution_count": null,
   "metadata": {},
   "outputs": [],
   "source": [
    "u[1:N,1:N] = Ks\n",
    "\n",
    "x=np.arange(0,1+h,h)\n",
    "y=np.arange(0,1+h,h)\n",
    "X,Y = np.meshgrid(x,y)\n",
    "plt.pcolormesh(X,Y,u)\n",
    "plt.colorbar()\n",
    "plt.show()"
   ]
  },
  {
   "cell_type": "code",
   "execution_count": null,
   "metadata": {},
   "outputs": [],
   "source": [
    "fig = plt.figure(figsize=(8,6))\n",
    "ax = fig.add_subplot(111, projection='3d');\n",
    "# Plot a basic wireframe.\n",
    "ax.plot_wireframe(X, Y, u,color='r');"
   ]
  }
 ],
 "metadata": {
  "kernelspec": {
   "display_name": "Python 3 (ipykernel)",
   "language": "python",
   "name": "python3"
  },
  "language_info": {
   "codemirror_mode": {
    "name": "ipython",
    "version": 3
   },
   "file_extension": ".py",
   "mimetype": "text/x-python",
   "name": "python",
   "nbconvert_exporter": "python",
   "pygments_lexer": "ipython3",
   "version": "3.9.13"
  }
 },
 "nbformat": 4,
 "nbformat_minor": 4
}
